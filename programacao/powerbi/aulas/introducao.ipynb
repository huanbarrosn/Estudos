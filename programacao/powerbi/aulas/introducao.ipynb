{
 "cells": [
  {
   "cell_type": "code",
   "execution_count": null,
   "id": "9e7632ee",
   "metadata": {},
   "outputs": [],
   "source": [
    "💠✴️🌾"
   ]
  },
  {
   "cell_type": "markdown",
   "id": "763ce443",
   "metadata": {
    "heading_collapsed": true
   },
   "source": [
    "# 💠 Introdução"
   ]
  },
  {
   "cell_type": "markdown",
   "id": "ea4d44b3",
   "metadata": {
    "hidden": true
   },
   "source": [
    "- Como coletar dados no Power Bi e noção de como esse processo funciona?\n",
    "- Como tratar os dados no Power Bi, ou seja, botões do power query e noção da liguagem M?\n",
    "- Como funciona e como criar relacionamentos entre tabelas?\n",
    "- Como fazer calculos com os dados (linguagem DAX)?\n",
    "- Qual o melhor gráfico a se usar de acordo com a informação?\n",
    "- Como personalizar um dashboard (gama de conteúdos por ai)?\n",
    "- Pra que serve e como funicona o Power Bi service, ou seja, explorar o power bi service?\n",
    "- Como automatizar a atualização dos dashs?"
   ]
  }
 ],
 "metadata": {
  "kernelspec": {
   "display_name": "Python 3 (ipykernel)",
   "language": "python",
   "name": "python3"
  },
  "language_info": {
   "codemirror_mode": {
    "name": "ipython",
    "version": 3
   },
   "file_extension": ".py",
   "mimetype": "text/x-python",
   "name": "python",
   "nbconvert_exporter": "python",
   "pygments_lexer": "ipython3",
   "version": "3.11.2"
  }
 },
 "nbformat": 4,
 "nbformat_minor": 5
}
