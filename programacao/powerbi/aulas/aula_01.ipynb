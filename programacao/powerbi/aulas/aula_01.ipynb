{
 "cells": [
  {
   "cell_type": "code",
   "execution_count": null,
   "id": "9e7632ee",
   "metadata": {},
   "outputs": [],
   "source": [
    "💠✴️🌾"
   ]
  },
  {
   "cell_type": "markdown",
   "id": "6fae1caa",
   "metadata": {
    "heading_collapsed": true
   },
   "source": [
    "# 💠 Funções"
   ]
  },
  {
   "cell_type": "markdown",
   "id": "93903f15",
   "metadata": {
    "heading_collapsed": true,
    "hidden": true
   },
   "source": [
    "## 🌾 Lookupvalue"
   ]
  },
  {
   "cell_type": "markdown",
   "id": "264681af",
   "metadata": {
    "heading_collapsed": true,
    "hidden": true
   },
   "source": [
    "## 🌾 Related"
   ]
  },
  {
   "cell_type": "markdown",
   "id": "bb5a3b21",
   "metadata": {
    "heading_collapsed": true,
    "hidden": true
   },
   "source": [
    "## 🌾 Topn"
   ]
  },
  {
   "cell_type": "markdown",
   "id": "1ee9cee1",
   "metadata": {
    "heading_collapsed": true,
    "hidden": true
   },
   "source": [
    "## 🌾 Calculate"
   ]
  },
  {
   "cell_type": "markdown",
   "id": "1d3a3cc6",
   "metadata": {
    "heading_collapsed": true,
    "hidden": true
   },
   "source": [
    "## 🌾 Count"
   ]
  }
 ],
 "metadata": {
  "kernelspec": {
   "display_name": "Python 3 (ipykernel)",
   "language": "python",
   "name": "python3"
  },
  "language_info": {
   "codemirror_mode": {
    "name": "ipython",
    "version": 3
   },
   "file_extension": ".py",
   "mimetype": "text/x-python",
   "name": "python",
   "nbconvert_exporter": "python",
   "pygments_lexer": "ipython3",
   "version": "3.11.2"
  }
 },
 "nbformat": 4,
 "nbformat_minor": 5
}
