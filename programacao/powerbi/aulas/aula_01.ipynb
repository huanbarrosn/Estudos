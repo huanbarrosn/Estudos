{
 "cells": [
  {
   "cell_type": "code",
   "execution_count": null,
   "id": "9e7632ee",
   "metadata": {},
   "outputs": [],
   "source": [
    "💠✴️🌾"
   ]
  },
  {
   "cell_type": "markdown",
   "id": "6fae1caa",
   "metadata": {},
   "source": [
    "# 💠 Funções"
   ]
  },
  {
   "cell_type": "markdown",
   "id": "93903f15",
   "metadata": {
    "heading_collapsed": true
   },
   "source": [
    "## 🌾 Lookupvalue"
   ]
  },
  {
   "cell_type": "markdown",
   "id": "264681af",
   "metadata": {},
   "source": [
    "## 🌾 Related"
   ]
  },
  {
   "cell_type": "markdown",
   "id": "93464fa8",
   "metadata": {},
   "source": []
  },
  {
   "cell_type": "markdown",
   "id": "fbab89c3",
   "metadata": {},
   "source": []
  },
  {
   "cell_type": "markdown",
   "id": "6f6ab65f",
   "metadata": {},
   "source": []
  },
  {
   "cell_type": "markdown",
   "id": "fe247ce0",
   "metadata": {},
   "source": []
  }
 ],
 "metadata": {
  "kernelspec": {
   "display_name": "Python 3 (ipykernel)",
   "language": "python",
   "name": "python3"
  },
  "language_info": {
   "codemirror_mode": {
    "name": "ipython",
    "version": 3
   },
   "file_extension": ".py",
   "mimetype": "text/x-python",
   "name": "python",
   "nbconvert_exporter": "python",
   "pygments_lexer": "ipython3",
   "version": "3.11.2"
  }
 },
 "nbformat": 4,
 "nbformat_minor": 5
}
