{
 "cells": [
  {
   "cell_type": "code",
   "execution_count": null,
   "id": "9e7632ee",
   "metadata": {},
   "outputs": [],
   "source": [
    "💠✴️🌾"
   ]
  },
  {
   "cell_type": "markdown",
   "id": "6b961606",
   "metadata": {
    "heading_collapsed": true
   },
   "source": [
    "# 💠 Introdução"
   ]
  },
  {
   "cell_type": "markdown",
   "id": "c9c666aa",
   "metadata": {
    "hidden": true
   },
   "source": [
    "[linguagem dax](https://learn.microsoft.com/pt-br/dax/)"
   ]
  },
  {
   "cell_type": "markdown",
   "id": "8bfde332",
   "metadata": {
    "hidden": true
   },
   "source": []
  },
  {
   "cell_type": "markdown",
   "id": "4f196aad",
   "metadata": {
    "hidden": true
   },
   "source": []
  },
  {
   "cell_type": "markdown",
   "id": "6fae1caa",
   "metadata": {
    "heading_collapsed": true
   },
   "source": [
    "# 💠 Funções numericas"
   ]
  },
  {
   "cell_type": "markdown",
   "id": "96762654",
   "metadata": {
    "heading_collapsed": true,
    "hidden": true
   },
   "source": [
    "## 🌾 Sum"
   ]
  },
  {
   "cell_type": "markdown",
   "id": "525e1e58",
   "metadata": {
    "hidden": true
   },
   "source": [
    "A função SUM recebe como parâmetro apenas uma coluna. Ela serve para somar todos os valores que estão contidos dentro da coluna especificada. Por exemplo:"
   ]
  },
  {
   "cell_type": "code",
   "execution_count": null,
   "id": "fa0bcb19",
   "metadata": {
    "hidden": true
   },
   "outputs": [],
   "source": [
    "SUM( [faturamento_por_mes] )"
   ]
  },
  {
   "cell_type": "markdown",
   "id": "55a3bd96",
   "metadata": {
    "hidden": true
   },
   "source": [
    " "
   ]
  },
  {
   "cell_type": "markdown",
   "id": "d027d491",
   "metadata": {
    "heading_collapsed": true,
    "hidden": true
   },
   "source": [
    "## 🌾 Sumx"
   ]
  },
  {
   "cell_type": "markdown",
   "id": "b1cace17",
   "metadata": {
    "hidden": true
   },
   "source": [
    "A função SUMX serve para somar o resultado de calculos realizados de forma individualmente para cada linha de uma tabela. Essa função possui 2 parâmetros, o primeiro parâmetro recebe a tabela na qual contêm as colunas onde serão aplicado os calculos. E o segundo parâmetro recebe uma expressão que informa qual calculo será realizado e com quais colunas."
   ]
  },
  {
   "cell_type": "code",
   "execution_count": null,
   "id": "771a41f6",
   "metadata": {
    "hidden": true
   },
   "outputs": [],
   "source": [
    "# somando o faturamento \n",
    "\n",
    "SUMX( tb_vendas, tb_vendas[pedido] * tb_vendas[faturamento_do_pedido] )"
   ]
  },
  {
   "cell_type": "markdown",
   "id": "458f461d",
   "metadata": {
    "hidden": true
   },
   "source": [
    " "
   ]
  },
  {
   "cell_type": "markdown",
   "id": "3255cffb",
   "metadata": {
    "heading_collapsed": true,
    "hidden": true
   },
   "source": [
    "## 🌾 Count"
   ]
  },
  {
   "cell_type": "markdown",
   "id": "e2fb93c2",
   "metadata": {
    "heading_collapsed": true,
    "hidden": true
   },
   "source": [
    "## 🌾 Divide"
   ]
  },
  {
   "cell_type": "markdown",
   "id": "0bb5031a",
   "metadata": {
    "heading_collapsed": true,
    "hidden": true
   },
   "source": [
    "## 🌾 Average e Averagex"
   ]
  },
  {
   "cell_type": "markdown",
   "id": "1c9ea507",
   "metadata": {
    "heading_collapsed": true
   },
   "source": [
    "# 💠 Funções de texto"
   ]
  },
  {
   "cell_type": "markdown",
   "id": "ba9bab84",
   "metadata": {
    "heading_collapsed": true,
    "hidden": true
   },
   "source": [
    "## 🌾 Concatenate"
   ]
  },
  {
   "cell_type": "markdown",
   "id": "b1bc5529",
   "metadata": {
    "heading_collapsed": true,
    "hidden": true
   },
   "source": [
    "## 🌾 Trim"
   ]
  },
  {
   "cell_type": "markdown",
   "id": "470a9c25",
   "metadata": {
    "heading_collapsed": true,
    "hidden": true
   },
   "source": [
    "## 🌾 Replace"
   ]
  },
  {
   "cell_type": "markdown",
   "id": "af62f1c1",
   "metadata": {
    "heading_collapsed": true,
    "hidden": true
   },
   "source": [
    "## 🌾 Upper e Lower"
   ]
  },
  {
   "cell_type": "markdown",
   "id": "ac91185e",
   "metadata": {
    "heading_collapsed": true,
    "hidden": true
   },
   "source": [
    "## 🌾 Upper e Lower"
   ]
  },
  {
   "cell_type": "markdown",
   "id": "dc2abd4a",
   "metadata": {
    "heading_collapsed": true,
    "hidden": true
   },
   "source": [
    "## 🌾 Find"
   ]
  },
  {
   "cell_type": "markdown",
   "id": "ac952443",
   "metadata": {
    "heading_collapsed": true,
    "hidden": true
   },
   "source": [
    "## 🌾 Mid"
   ]
  },
  {
   "cell_type": "markdown",
   "id": "f366fffb",
   "metadata": {
    "heading_collapsed": true,
    "hidden": true
   },
   "source": [
    "## 🌾 Rept"
   ]
  },
  {
   "cell_type": "markdown",
   "id": "68a66f95",
   "metadata": {
    "heading_collapsed": true,
    "hidden": true
   },
   "source": [
    "## 🌾 Left e Right"
   ]
  },
  {
   "cell_type": "markdown",
   "id": "0beeccbc",
   "metadata": {
    "heading_collapsed": true,
    "hidden": true
   },
   "source": [
    "## 🌾 Len"
   ]
  },
  {
   "cell_type": "markdown",
   "id": "35da76b5",
   "metadata": {
    "heading_collapsed": true
   },
   "source": [
    "# 💠 Funções para datas"
   ]
  },
  {
   "cell_type": "markdown",
   "id": "df57b608",
   "metadata": {
    "hidden": true
   },
   "source": [
    "## 🌾 Calendarauto"
   ]
  },
  {
   "cell_type": "markdown",
   "id": "504b81e3",
   "metadata": {
    "heading_collapsed": true,
    "hidden": true
   },
   "source": [
    "## 🌾 Format"
   ]
  },
  {
   "cell_type": "markdown",
   "id": "4d7c0237",
   "metadata": {
    "heading_collapsed": true,
    "hidden": true
   },
   "source": [
    "## 🌾 Year"
   ]
  },
  {
   "cell_type": "markdown",
   "id": "de62b7ce",
   "metadata": {
    "heading_collapsed": true,
    "hidden": true
   },
   "source": [
    "## 🌾 Quarter"
   ]
  },
  {
   "cell_type": "markdown",
   "id": "6a2ad296",
   "metadata": {
    "hidden": true
   },
   "source": []
  },
  {
   "cell_type": "markdown",
   "id": "3da362c1",
   "metadata": {
    "heading_collapsed": true,
    "hidden": true
   },
   "source": [
    "## 🌾 Month"
   ]
  },
  {
   "cell_type": "markdown",
   "id": "12a92407",
   "metadata": {
    "heading_collapsed": true,
    "hidden": true
   },
   "source": [
    "## 🌾 Weekday e Weeknum"
   ]
  },
  {
   "cell_type": "markdown",
   "id": "d67f079e",
   "metadata": {
    "heading_collapsed": true,
    "hidden": true
   },
   "source": [
    "## 🌾 Day"
   ]
  },
  {
   "cell_type": "markdown",
   "id": "767c392a",
   "metadata": {
    "heading_collapsed": true,
    "hidden": true
   },
   "source": [
    "## 🌾 Datesinperiod"
   ]
  },
  {
   "cell_type": "markdown",
   "id": "cc4c52b1",
   "metadata": {
    "heading_collapsed": true,
    "hidden": true
   },
   "source": [
    "## 🌾 Datesbetewen"
   ]
  },
  {
   "cell_type": "markdown",
   "id": "f2997192",
   "metadata": {
    "heading_collapsed": true,
    "hidden": true
   },
   "source": [
    "## 🌾 Nextyear"
   ]
  },
  {
   "cell_type": "markdown",
   "id": "9f34a387",
   "metadata": {
    "heading_collapsed": true,
    "hidden": true
   },
   "source": [
    "## 🌾 Previousyear"
   ]
  },
  {
   "cell_type": "markdown",
   "id": "57fda174",
   "metadata": {
    "heading_collapsed": true,
    "hidden": true
   },
   "source": [
    "## 🌾 Parallelperiod"
   ]
  },
  {
   "cell_type": "markdown",
   "id": "c5c9da18",
   "metadata": {
    "heading_collapsed": true,
    "hidden": true
   },
   "source": [
    "## 🌾 Datesytd"
   ]
  },
  {
   "cell_type": "markdown",
   "id": "ecfbc5c1",
   "metadata": {
    "hidden": true
   },
   "source": []
  },
  {
   "cell_type": "markdown",
   "id": "a5b83f00",
   "metadata": {
    "hidden": true
   },
   "source": []
  },
  {
   "cell_type": "markdown",
   "id": "f542d50b",
   "metadata": {
    "heading_collapsed": true
   },
   "source": [
    "# 💠 Funções lógicas"
   ]
  },
  {
   "cell_type": "markdown",
   "id": "6882b34f",
   "metadata": {
    "heading_collapsed": true,
    "hidden": true
   },
   "source": [
    "## 🌾 If"
   ]
  },
  {
   "cell_type": "markdown",
   "id": "4f8ef49c",
   "metadata": {
    "hidden": true
   },
   "source": []
  },
  {
   "cell_type": "markdown",
   "id": "87808ee6",
   "metadata": {
    "heading_collapsed": true,
    "hidden": true
   },
   "source": [
    "## 🌾 Switch"
   ]
  },
  {
   "cell_type": "markdown",
   "id": "6a5b33e6",
   "metadata": {
    "heading_collapsed": true,
    "hidden": true
   },
   "source": [
    "## 🌾 Iserror"
   ]
  },
  {
   "cell_type": "markdown",
   "id": "40207ef1",
   "metadata": {
    "heading_collapsed": true,
    "hidden": true
   },
   "source": [
    "## 🌾 Iferror"
   ]
  },
  {
   "cell_type": "markdown",
   "id": "1f71dfa9",
   "metadata": {
    "heading_collapsed": true
   },
   "source": [
    "# 💠 Funções de relacionamento"
   ]
  },
  {
   "cell_type": "markdown",
   "id": "9f7a3b5e",
   "metadata": {
    "heading_collapsed": true,
    "hidden": true
   },
   "source": [
    "## 🌾 Related"
   ]
  },
  {
   "cell_type": "markdown",
   "id": "277529a0",
   "metadata": {
    "heading_collapsed": true,
    "hidden": true
   },
   "source": [
    "## 🌾 Lookupvalue"
   ]
  },
  {
   "cell_type": "markdown",
   "id": "241e4a39",
   "metadata": {},
   "source": [
    "# 💠 Funções de filtro"
   ]
  },
  {
   "cell_type": "markdown",
   "id": "11e34d8e",
   "metadata": {
    "heading_collapsed": true
   },
   "source": [
    "## 🌾 Calculate"
   ]
  },
  {
   "cell_type": "markdown",
   "id": "8e6640cb",
   "metadata": {
    "heading_collapsed": true
   },
   "source": [
    "## 🌾 Calculatetable"
   ]
  },
  {
   "cell_type": "markdown",
   "id": "7888a842",
   "metadata": {
    "heading_collapsed": true
   },
   "source": [
    "## 🌾 Filter"
   ]
  },
  {
   "cell_type": "markdown",
   "id": "87210855",
   "metadata": {
    "heading_collapsed": true
   },
   "source": [
    "## 🌾 All"
   ]
  },
  {
   "cell_type": "markdown",
   "id": "3c8ebd9c",
   "metadata": {
    "heading_collapsed": true
   },
   "source": [
    "## 🌾 Allselected"
   ]
  },
  {
   "cell_type": "markdown",
   "id": "4698605b",
   "metadata": {
    "heading_collapsed": true
   },
   "source": [
    "## 🌾 Topn"
   ]
  },
  {
   "cell_type": "markdown",
   "id": "38bc0c18",
   "metadata": {
    "heading_collapsed": true
   },
   "source": [
    "## 🌾 In"
   ]
  },
  {
   "cell_type": "markdown",
   "id": "47330779",
   "metadata": {
    "heading_collapsed": true
   },
   "source": [
    "## 🌾 Hasonefilter"
   ]
  },
  {
   "cell_type": "markdown",
   "id": "a0b202c9",
   "metadata": {
    "heading_collapsed": true
   },
   "source": [
    "## 🌾 Isfiltered"
   ]
  },
  {
   "cell_type": "markdown",
   "id": "15291c7b",
   "metadata": {
    "heading_collapsed": true
   },
   "source": [
    "# 💠 Funções de rankeamento"
   ]
  },
  {
   "cell_type": "markdown",
   "id": "5f1e563c",
   "metadata": {
    "heading_collapsed": true,
    "hidden": true
   },
   "source": [
    "## 🌾 Rankx"
   ]
  }
 ],
 "metadata": {
  "kernelspec": {
   "display_name": "Python 3 (ipykernel)",
   "language": "python",
   "name": "python3"
  },
  "language_info": {
   "codemirror_mode": {
    "name": "ipython",
    "version": 3
   },
   "file_extension": ".py",
   "mimetype": "text/x-python",
   "name": "python",
   "nbconvert_exporter": "python",
   "pygments_lexer": "ipython3",
   "version": "3.11.2"
  }
 },
 "nbformat": 4,
 "nbformat_minor": 5
}
