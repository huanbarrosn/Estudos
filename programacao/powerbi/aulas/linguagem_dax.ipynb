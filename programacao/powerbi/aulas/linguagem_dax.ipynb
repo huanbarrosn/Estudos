{
 "cells": [
  {
   "cell_type": "code",
   "execution_count": null,
   "id": "9e7632ee",
   "metadata": {},
   "outputs": [],
   "source": [
    "💠✴️🌾"
   ]
  },
  {
   "cell_type": "markdown",
   "id": "6b961606",
   "metadata": {
    "heading_collapsed": true
   },
   "source": [
    "# 💠 Introdução"
   ]
  },
  {
   "cell_type": "markdown",
   "id": "c9c666aa",
   "metadata": {
    "hidden": true
   },
   "source": [
    "[linguagem dax](https://learn.microsoft.com/pt-br/dax/)"
   ]
  },
  {
   "cell_type": "markdown",
   "id": "8bfde332",
   "metadata": {
    "hidden": true
   },
   "source": []
  },
  {
   "cell_type": "markdown",
   "id": "4f196aad",
   "metadata": {
    "hidden": true
   },
   "source": []
  },
  {
   "cell_type": "markdown",
   "id": "6fae1caa",
   "metadata": {
    "heading_collapsed": true
   },
   "source": [
    "# 💠 Funções numericas"
   ]
  },
  {
   "cell_type": "markdown",
   "id": "96762654",
   "metadata": {
    "heading_collapsed": true,
    "hidden": true
   },
   "source": [
    "## 🌾 Sum"
   ]
  },
  {
   "cell_type": "markdown",
   "id": "525e1e58",
   "metadata": {
    "hidden": true
   },
   "source": [
    "A função `SUM` recebe como parâmetro apenas uma coluna. Ela serve para somar todos os valores que estão contidos dentro da coluna especificada. Por exemplo:"
   ]
  },
  {
   "cell_type": "code",
   "execution_count": null,
   "id": "fa0bcb19",
   "metadata": {
    "hidden": true
   },
   "outputs": [],
   "source": [
    "SUM( [faturamento_por_mes] )"
   ]
  },
  {
   "cell_type": "markdown",
   "id": "55a3bd96",
   "metadata": {
    "hidden": true
   },
   "source": [
    " "
   ]
  },
  {
   "cell_type": "markdown",
   "id": "7a7f7834",
   "metadata": {
    "heading_collapsed": true,
    "hidden": true
   },
   "source": [
    "## 🌾 Sumx"
   ]
  },
  {
   "cell_type": "markdown",
   "id": "939e16cf",
   "metadata": {
    "hidden": true
   },
   "source": [
    "A função `SUMX` serve para somar o resultado de calculos realizados de forma individualmente para cada linha de uma tabela. Essa função possui 2 parâmetros, o primeiro parâmetro recebe a tabela na qual contêm as colunas onde serão aplicado os calculos. E o segundo parâmetro recebe uma expressão que informa qual calculo será realizado e com quais colunas."
   ]
  },
  {
   "cell_type": "code",
   "execution_count": null,
   "id": "1bfa64ea",
   "metadata": {
    "hidden": true
   },
   "outputs": [],
   "source": [
    "# somando o faturamento \n",
    "\n",
    "SUMX( tb_vendas, tb_vendas[pedido] * tb_vendas[faturamento_do_pedido] )"
   ]
  },
  {
   "cell_type": "markdown",
   "id": "458f461d",
   "metadata": {
    "hidden": true
   },
   "source": [
    " "
   ]
  },
  {
   "cell_type": "markdown",
   "id": "3255cffb",
   "metadata": {
    "heading_collapsed": true,
    "hidden": true
   },
   "source": [
    "## 🌾 Counta"
   ]
  },
  {
   "cell_type": "markdown",
   "id": "a40070e2",
   "metadata": {
    "hidden": true
   },
   "source": [
    "`COUNTA` conta não apenas linhas que contêm valores numéricos, mas também linhas que contêm valores não em branco, incluindo texto, datas e valores lógicos. A sintaxe é a seguinte:"
   ]
  },
  {
   "cell_type": "code",
   "execution_count": null,
   "id": "6c2d3846",
   "metadata": {
    "hidden": true
   },
   "outputs": [],
   "source": [
    "COUNTA(coluna)"
   ]
  },
  {
   "cell_type": "markdown",
   "id": "1014e76a",
   "metadata": {
    "hidden": true
   },
   "source": [
    " "
   ]
  },
  {
   "cell_type": "markdown",
   "id": "bb41b260",
   "metadata": {
    "heading_collapsed": true,
    "hidden": true
   },
   "source": [
    "## 🌾 Countax"
   ]
  },
  {
   "cell_type": "markdown",
   "id": "c4f819f2",
   "metadata": {
    "hidden": true
   },
   "source": [
    "Conta o número de linhas que contêm um valor que não esteja em branco ou uma expressão que é avaliada como um valor que não esteja em branco, ao avaliar uma expressão em uma tabela.\n",
    "\n",
    "A sintaxe é:"
   ]
  },
  {
   "cell_type": "code",
   "execution_count": null,
   "id": "20bef2fb",
   "metadata": {
    "hidden": true
   },
   "outputs": [],
   "source": [
    "COUNTAX( table, expression )"
   ]
  },
  {
   "cell_type": "markdown",
   "id": "2f16a24a",
   "metadata": {
    "hidden": true
   },
   "source": [
    "`table`: A tabela que contém as linhas a serem contadas.<br>\n",
    "`expression`: Uma expressão que retorna o conjunto de valores que contém os va\n",
    "\n",
    "A função `COUNTAX` usa dois argumentos. O primeiro argumento sempre precisa ser uma tabela ou qualquer expressão que retorne uma tabela. O segundo argumento é a coluna ou a expressão pesquisada por `COUNTAX`."
   ]
  },
  {
   "cell_type": "markdown",
   "id": "2227c6e2",
   "metadata": {
    "hidden": true
   },
   "source": [
    " "
   ]
  },
  {
   "cell_type": "markdown",
   "id": "e2fb93c2",
   "metadata": {
    "heading_collapsed": true,
    "hidden": true
   },
   "source": [
    "## 🌾 Divide"
   ]
  },
  {
   "cell_type": "markdown",
   "id": "60a38e5a",
   "metadata": {
    "hidden": true
   },
   "source": [
    "A função `DIVIDE` divide um valor por outro tratando de forma automatica o erro gerado por uma divisão com o denominador 0. Caso você faça uma divisão que possua o denomidador como 0 a função `DIVIDE` retorna BLANK. A sintaxe é:"
   ]
  },
  {
   "cell_type": "code",
   "execution_count": null,
   "id": "7387bc61",
   "metadata": {
    "hidden": true
   },
   "outputs": [],
   "source": [
    "DIVIDE(<numerator>, <denominator> ,<alternateresult>) "
   ]
  },
  {
   "cell_type": "markdown",
   "id": "0bb5031a",
   "metadata": {
    "heading_collapsed": true,
    "hidden": true
   },
   "source": [
    "## 🌾 Average e Averagex"
   ]
  },
  {
   "cell_type": "markdown",
   "id": "891f34b9",
   "metadata": {
    "hidden": true
   },
   "source": [
    "A função `AVERAGE` serve para calcular a média de uma coluna. Ela recebe um unico argumento, que é o nome da coluna que você deseja calcular a média. Veja o exemplo a baixo onde eu cálculo a média da coluna `[preço_produto]`."
   ]
  },
  {
   "cell_type": "code",
   "execution_count": null,
   "id": "09b39fe0",
   "metadata": {
    "hidden": true
   },
   "outputs": [],
   "source": [
    "AVERAGE([preco_produto])"
   ]
  },
  {
   "cell_type": "markdown",
   "id": "c3e5b099",
   "metadata": {
    "hidden": true
   },
   "source": [
    " "
   ]
  },
  {
   "cell_type": "markdown",
   "id": "0c03516c",
   "metadata": {
    "hidden": true
   },
   "source": [
    "Enquanto a função `AVERAGE` calcula a média somente de uma coluna a função `AVERAGEX` pode calcular a media sobre o resultado de uma expressão. A função `AVERAGEX` recebe 2 parâmetros, o nome da tabela que contém as colunas que serão usadas na expressão e a expressão. Por exemplo, vamos calcular a média do faturamento por pedido."
   ]
  },
  {
   "cell_type": "code",
   "execution_count": null,
   "id": "dcbb0e6a",
   "metadata": {
    "hidden": true
   },
   "outputs": [],
   "source": [
    "AVERAGE(tb_vendas, [quantidade_prod_vendidos] * [preco])"
   ]
  },
  {
   "cell_type": "markdown",
   "id": "a5a8fdaa",
   "metadata": {
    "hidden": true
   },
   "source": [
    " "
   ]
  },
  {
   "cell_type": "markdown",
   "id": "1c9ea507",
   "metadata": {
    "heading_collapsed": true
   },
   "source": [
    "# 💠 Funções de texto"
   ]
  },
  {
   "cell_type": "markdown",
   "id": "74e04f45",
   "metadata": {
    "heading_collapsed": true,
    "hidden": true
   },
   "source": [
    "## 🌾 Format"
   ]
  },
  {
   "cell_type": "markdown",
   "id": "ba9bab84",
   "metadata": {
    "heading_collapsed": true,
    "hidden": true
   },
   "source": [
    "## 🌾 Concatenate"
   ]
  },
  {
   "cell_type": "markdown",
   "id": "b1bc5529",
   "metadata": {
    "heading_collapsed": true,
    "hidden": true
   },
   "source": [
    "## 🌾 Trim"
   ]
  },
  {
   "cell_type": "markdown",
   "id": "470a9c25",
   "metadata": {
    "heading_collapsed": true,
    "hidden": true
   },
   "source": [
    "## 🌾 Replace"
   ]
  },
  {
   "cell_type": "markdown",
   "id": "af62f1c1",
   "metadata": {
    "heading_collapsed": true,
    "hidden": true
   },
   "source": [
    "## 🌾 Upper e Lower"
   ]
  },
  {
   "cell_type": "markdown",
   "id": "ac91185e",
   "metadata": {
    "heading_collapsed": true,
    "hidden": true
   },
   "source": [
    "## 🌾 Upper e Lower"
   ]
  },
  {
   "cell_type": "markdown",
   "id": "dc2abd4a",
   "metadata": {
    "heading_collapsed": true,
    "hidden": true
   },
   "source": [
    "## 🌾 Find"
   ]
  },
  {
   "cell_type": "markdown",
   "id": "ac952443",
   "metadata": {
    "heading_collapsed": true,
    "hidden": true
   },
   "source": [
    "## 🌾 Mid"
   ]
  },
  {
   "cell_type": "markdown",
   "id": "f366fffb",
   "metadata": {
    "heading_collapsed": true,
    "hidden": true
   },
   "source": [
    "## 🌾 Rept"
   ]
  },
  {
   "cell_type": "markdown",
   "id": "68a66f95",
   "metadata": {
    "heading_collapsed": true,
    "hidden": true
   },
   "source": [
    "## 🌾 Left e Right"
   ]
  },
  {
   "cell_type": "markdown",
   "id": "0beeccbc",
   "metadata": {
    "heading_collapsed": true,
    "hidden": true
   },
   "source": [
    "## 🌾 Len"
   ]
  },
  {
   "cell_type": "markdown",
   "id": "35da76b5",
   "metadata": {
    "heading_collapsed": true
   },
   "source": [
    "# 💠 Funções para datas"
   ]
  },
  {
   "cell_type": "markdown",
   "id": "5b7ed18b",
   "metadata": {
    "heading_collapsed": true,
    "hidden": true
   },
   "source": [
    "## 🌾 Calendar"
   ]
  },
  {
   "cell_type": "markdown",
   "id": "df57b608",
   "metadata": {
    "heading_collapsed": true,
    "hidden": true
   },
   "source": [
    "## 🌾 Calendarauto"
   ]
  },
  {
   "cell_type": "markdown",
   "id": "4d7c0237",
   "metadata": {
    "heading_collapsed": true,
    "hidden": true
   },
   "source": [
    "## 🌾 Year"
   ]
  },
  {
   "cell_type": "markdown",
   "id": "de62b7ce",
   "metadata": {
    "heading_collapsed": true,
    "hidden": true
   },
   "source": [
    "## 🌾 Quarter"
   ]
  },
  {
   "cell_type": "markdown",
   "id": "6a2ad296",
   "metadata": {
    "hidden": true
   },
   "source": []
  },
  {
   "cell_type": "markdown",
   "id": "3da362c1",
   "metadata": {
    "heading_collapsed": true,
    "hidden": true
   },
   "source": [
    "## 🌾 Month"
   ]
  },
  {
   "cell_type": "markdown",
   "id": "12a92407",
   "metadata": {
    "heading_collapsed": true,
    "hidden": true
   },
   "source": [
    "## 🌾 Weekday e Weeknum"
   ]
  },
  {
   "cell_type": "markdown",
   "id": "d67f079e",
   "metadata": {
    "heading_collapsed": true,
    "hidden": true
   },
   "source": [
    "## 🌾 Day"
   ]
  },
  {
   "cell_type": "markdown",
   "id": "ecfbc5c1",
   "metadata": {
    "hidden": true
   },
   "source": []
  },
  {
   "cell_type": "markdown",
   "id": "a5b83f00",
   "metadata": {
    "hidden": true
   },
   "source": []
  },
  {
   "cell_type": "markdown",
   "id": "fb037b03",
   "metadata": {
    "heading_collapsed": true
   },
   "source": [
    "# 💠 Funções de inteligência de dado temporais"
   ]
  },
  {
   "cell_type": "markdown",
   "id": "037c2686",
   "metadata": {
    "heading_collapsed": true,
    "hidden": true
   },
   "source": [
    "## 🌾 Datesbetewen"
   ]
  },
  {
   "cell_type": "markdown",
   "id": "f588a9e3",
   "metadata": {
    "hidden": true
   },
   "source": [
    "A função `DATESBETWEEN` é uma função DAX usada para retornar um conjunto de datas que estão entre um intervalo especificado. Essa função é muito útil para calcular métricas de tempo, como a quantidade de vendas realizadas em um determinado período ou a média de vendas por mês. A sintaxe é:"
   ]
  },
  {
   "cell_type": "code",
   "execution_count": null,
   "id": "edba432e",
   "metadata": {
    "hidden": true
   },
   "outputs": [],
   "source": [
    "DATESBETWEEN(column_date, data_inicio, data_fim)"
   ]
  },
  {
   "cell_type": "markdown",
   "id": "de5eb91d",
   "metadata": {
    "hidden": true
   },
   "source": [
    "`column_date`: É a tabela que contém a coluna de data que você deseja usar. Essa tabela deve estar relacionada com a tabela atual ou deve ser a tabela atual.<br>\n",
    "`data_inicio`: É a data de início do intervalo desejado, representada como uma expressão de data.<br>\n",
    "`data_fim`: É a data final do intervalo desejado, representada como uma expressão de data.<br>"
   ]
  },
  {
   "cell_type": "markdown",
   "id": "1f150a21",
   "metadata": {
    "hidden": true
   },
   "source": [
    "**obs**: Possivelmente essa função só aceita data e não data/hora."
   ]
  },
  {
   "cell_type": "markdown",
   "id": "02686312",
   "metadata": {
    "hidden": true
   },
   "source": [
    " "
   ]
  },
  {
   "cell_type": "markdown",
   "id": "29d3f3ce",
   "metadata": {
    "heading_collapsed": true,
    "hidden": true
   },
   "source": [
    "## 🌾 Datesinperiod"
   ]
  },
  {
   "cell_type": "markdown",
   "id": "99e651ad",
   "metadata": {
    "hidden": true
   },
   "source": [
    "A função `DATESINPERIOD` é uma função DAX que retorna um conjunto de datas que estão dentro de um período de tempo especificado. Ela é útil para filtrar dados em uma tabela por um período de tempo específico. A sua sintaxe é:"
   ]
  },
  {
   "cell_type": "code",
   "execution_count": null,
   "id": "9a3af62e",
   "metadata": {
    "hidden": true
   },
   "outputs": [],
   "source": [
    "DATESINPERIOD( dates, start_date, number_of_intervals, interval )"
   ]
  },
  {
   "cell_type": "markdown",
   "id": "0a0ab37b",
   "metadata": {
    "hidden": true
   },
   "source": [
    "Onde:\n",
    "\n",
    "`dates`: É uma coluna de data que será usada como base para determinar o período.<br>\n",
    "`start_date`: Uma expressão de data, referência para a qual a função irá determinar o período.<br> \n",
    "`number_of_intervals`: Um inteiro que especifica o número de intervalos a serem adicionados às datas ou subtraídos delas.<br>\n",
    "`interval`: O intervalo pelo qual as datas serão deslocadas. O valor do intervalo pode ser um dos seguintes: **DAY**, **MONTH**, **QUARTER** e **YEAR**"
   ]
  },
  {
   "cell_type": "markdown",
   "id": "78bc51e3",
   "metadata": {
    "hidden": true
   },
   "source": [
    " "
   ]
  },
  {
   "cell_type": "markdown",
   "id": "231e027d",
   "metadata": {
    "heading_collapsed": true,
    "hidden": true
   },
   "source": [
    "## 🌾 Next e Previos (year, quarter, month, day)"
   ]
  },
  {
   "cell_type": "markdown",
   "id": "ce1f6a26",
   "metadata": {
    "hidden": true
   },
   "source": [
    "`PREVIOSYEAR`, `NEXTYEAR`, `PREVIOSQUARTER`, `NEXTQUARTER`, `PREVIOSMONTH`, `NEXTMONTH`, `PREVIOSDAY` e `NEXTDAY` são funções usadas para calcular valores de uma medida para próximo/anterior (ano, trismestre, mês, dia). Elas podem ser úteis para comparar o desempenho atual com o desempenho anterior ou projetado para o próximo ano. A sintaxe das funções são:"
   ]
  },
  {
   "cell_type": "code",
   "execution_count": null,
   "id": "96b7447a",
   "metadata": {
    "hidden": true
   },
   "outputs": [],
   "source": [
    "NEXTxxxx( column_dates )\n",
    "\n",
    "PREVIOUSxxxx( column_dates )"
   ]
  },
  {
   "cell_type": "markdown",
   "id": "48a4fe00",
   "metadata": {
    "hidden": true
   },
   "source": [
    "`dates`: Uma coluna que contém datas que serão usadas para determinar o próximo/anterior (ano, trismestre, mês, dia). Essa data pode ser uma coluna de data em uma tabela ou uma expressão de data."
   ]
  },
  {
   "cell_type": "markdown",
   "id": "b00e3769",
   "metadata": {
    "hidden": true
   },
   "source": [
    " "
   ]
  },
  {
   "cell_type": "markdown",
   "id": "691e96f0",
   "metadata": {
    "heading_collapsed": true,
    "hidden": true
   },
   "source": [
    "## 🌾 Sameperiodlastyear"
   ]
  },
  {
   "cell_type": "markdown",
   "id": "a88e4246",
   "metadata": {
    "hidden": true
   },
   "source": [
    "A função `SAMEPERIODLASTYEAR` é uma função DAX que retorna um conjunto de dados correspondente ao período de tempo no ano anterior ao período atual. Ela é útil para calcular métricas que comparam o desempenho atual com o desempenho do mesmo período do ano anterior, como vendas ou receita. A sua sintaxe é:"
   ]
  },
  {
   "cell_type": "markdown",
   "id": "ebc4de71",
   "metadata": {
    "hidden": true
   },
   "source": [
    "SAMEPERIODLASTYEAR( dates )"
   ]
  },
  {
   "cell_type": "markdown",
   "id": "34f7c20e",
   "metadata": {
    "hidden": true
   },
   "source": [
    "`dates`: Uma coluna com datas que será usada para determinar o período anterior. O argumento `dates` pode ser um dos seguintes: \n",
    "- Uma referência a uma coluna de data/hora.\n",
    "- Uma expressão de tabela que retorna uma única coluna de valores de data/hora.\n",
    "- Uma expressão booliana que define uma tabela de coluna única de valores de data/hora."
   ]
  },
  {
   "cell_type": "markdown",
   "id": "c0018157",
   "metadata": {
    "hidden": true
   },
   "source": [
    "Em resumo, a função `SAMEPERIODLASTYEAR` é uma ferramenta útil na linguagem DAX para trabalhar com períodos de tempo comparativos, como o mesmo período do ano anterior. Sua sintaxe é simples e pode ser usada em conjunto com outras funções DAX para criar fórmulas mais complexas que envolvem comparações temporais."
   ]
  },
  {
   "cell_type": "markdown",
   "id": "0d4b24d8",
   "metadata": {
    "hidden": true
   },
   "source": [
    " "
   ]
  },
  {
   "cell_type": "markdown",
   "id": "4c017d64",
   "metadata": {
    "heading_collapsed": true,
    "hidden": true
   },
   "source": [
    "## 🌾 Parallelperiod"
   ]
  },
  {
   "cell_type": "markdown",
   "id": "a853d23b",
   "metadata": {
    "hidden": true
   },
   "source": [
    "A função `PARALLELPERIOD` é uma função DAX que retorna um conjunto de dados correspondente a um período de tempo anterior ou futuro com a mesma duração que o período atual. Ela é útil para calcular métricas que comparam o desempenho em períodos de tempo semelhantes, mas não necessariamente no mesmo período do ano. A sua sintaxe é:"
   ]
  },
  {
   "cell_type": "code",
   "execution_count": null,
   "id": "d2ceec7d",
   "metadata": {
    "hidden": true
   },
   "outputs": [],
   "source": [
    "PARALLELPERIOD(dates,number_of_intervals,interval)"
   ]
  },
  {
   "cell_type": "markdown",
   "id": "33933914",
   "metadata": {
    "hidden": true
   },
   "source": [
    "`dates`: Uma coluna com datas que será usada como base para determinar o período. O argumento `dates` pode ser um dos seguintes: \n",
    "- Uma referência a uma coluna de data/hora.\n",
    "- Uma expressão de tabela que retorna uma única coluna de valores de data/hora.\n",
    "- Uma expressão booliana que define uma tabela de coluna única de valores de data/hora. <br>\n",
    "\n",
    "`number_of_intervals`: É o número de períodos de tempo antes ou depois do período atual. Se esse valor for negativo, a função retornará um período de tempo anterior. Se for positivo, retornará um período de tempo futuro.\n",
    "\n",
    "`interval`: O intervalo pelo qual as datas serão deslocadas. O valor do intervalo pode ser um dos seguintes: **year**, **quarter**, **month**."
   ]
  },
  {
   "cell_type": "markdown",
   "id": "abc47804",
   "metadata": {
    "hidden": true
   },
   "source": [
    " "
   ]
  },
  {
   "cell_type": "markdown",
   "id": "914d46f2",
   "metadata": {
    "heading_collapsed": true,
    "hidden": true
   },
   "source": [
    "## 🌾 Datesytd"
   ]
  },
  {
   "cell_type": "markdown",
   "id": "df7be220",
   "metadata": {
    "hidden": true
   },
   "source": [
    "A função `DATESYTD` é uma função DAX (Data Analysis Expressions) que retorna um conjunto de datas que representa o período do início do ano atual até a data especificada. Essa função é útil para realizar cálculos que envolvem valores acumulados no ano corrente. A sintaxe é:"
   ]
  },
  {
   "cell_type": "code",
   "execution_count": null,
   "id": "f6f30359",
   "metadata": {
    "hidden": true
   },
   "outputs": [],
   "source": [
    "DATESYTD(dates, year_end_date)"
   ]
  },
  {
   "cell_type": "markdown",
   "id": "5129bee9",
   "metadata": {
    "hidden": true
   },
   "source": [
    "`dates`: O argumento dates pode ser um dos seguintes:\n",
    "\n",
    "- Uma referência a uma coluna de data/hora.\n",
    "- Uma expressão de tabela que retorna uma única coluna de valores de data/hora.\n",
    "- Uma expressão booliana que define uma tabela de coluna única de valores de data/hora.\n",
    "\n",
    "`year_end_date`: O parâmetro year_end_date é um literal de cadeia de caracteres de uma data, na mesma localidade que a usada pelo cliente em que a pasta de trabalho foi criada. A parte de ano da data é ignorada. Dependendo da localidade, o formato pode ser algo como \"m-dd\" ou \"dd-m\"."
   ]
  },
  {
   "cell_type": "markdown",
   "id": "e31d7450",
   "metadata": {
    "hidden": true
   },
   "source": [
    " "
   ]
  },
  {
   "cell_type": "markdown",
   "id": "f542d50b",
   "metadata": {
    "heading_collapsed": true
   },
   "source": [
    "# 💠 Funções lógicas"
   ]
  },
  {
   "cell_type": "markdown",
   "id": "6882b34f",
   "metadata": {
    "heading_collapsed": true,
    "hidden": true
   },
   "source": [
    "## 🌾 If"
   ]
  },
  {
   "cell_type": "markdown",
   "id": "4f8ef49c",
   "metadata": {
    "hidden": true
   },
   "source": [
    "Essa função é usada para retornar um valor se uma condição for verdadeira e outro valor se a condição for falsa. Por exemplo, você pode usar a função IF para verificar se o valor de vendas de um produto é maior que uma determinada quantidade e, em seguida, retornar \"Sim\" ou \"Não\". Exemplo:\n",
    "\n",
    "\n"
   ]
  },
  {
   "cell_type": "markdown",
   "id": "0bd1c10e",
   "metadata": {
    "hidden": true
   },
   "source": [
    "OBS: O ultimo parâmetro não é obrigatorio, ou seja, caso a condição seja falsa e você não tenha colado nehum valor como retorno BLANK será retornaado."
   ]
  },
  {
   "cell_type": "code",
   "execution_count": null,
   "id": "79e85d4c",
   "metadata": {
    "hidden": true
   },
   "outputs": [],
   "source": [
    "IF(tb_product[preco] > 50, \"sim\", \"não\")"
   ]
  },
  {
   "cell_type": "markdown",
   "id": "163dde97",
   "metadata": {
    "hidden": true
   },
   "source": [
    " "
   ]
  },
  {
   "cell_type": "markdown",
   "id": "87808ee6",
   "metadata": {
    "heading_collapsed": true,
    "hidden": true
   },
   "source": [
    "## 🌾 Switch"
   ]
  },
  {
   "cell_type": "markdown",
   "id": "dd5fca6c",
   "metadata": {
    "hidden": true
   },
   "source": [
    "A função SWITCH é uma função condicional do DAX que permite avaliar uma expressão e retornar um resultado com base em um conjunto de condições especificadas. Exemplo:"
   ]
  },
  {
   "cell_type": "code",
   "execution_count": null,
   "id": "c80c76b4",
   "metadata": {
    "hidden": true
   },
   "outputs": [],
   "source": [
    "SWITCH( [Month], 1, \"January\", 2, \"February\", 3, \"March\", 4, \"April\"  \n",
    "               , 5, \"May\", 6, \"June\", 7, \"July\", 8, \"August\"  \n",
    "               , 9, \"September\", 10, \"October\", 11, \"November\", 12, \"December\"  \n",
    "               , \"Unknown month number\" )"
   ]
  },
  {
   "cell_type": "markdown",
   "id": "d4f2cba8",
   "metadata": {
    "hidden": true
   },
   "source": [
    " "
   ]
  },
  {
   "cell_type": "markdown",
   "id": "40207ef1",
   "metadata": {
    "heading_collapsed": true,
    "hidden": true
   },
   "source": [
    "## 🌾 Iferror"
   ]
  },
  {
   "cell_type": "markdown",
   "id": "130d5b94",
   "metadata": {
    "hidden": true
   },
   "source": [
    "A função `IFERROR` é usada para lidar com erros em uma fórmula. Ela avalia uma expressão e retorna o resultado se não houver erro. Se houver um erro, ela retorna um valor alternativo especificado pelo usuário. A sintaxe da função `IFERROR` é a seguinte:"
   ]
  },
  {
   "cell_type": "code",
   "execution_count": null,
   "id": "2ac23dbe",
   "metadata": {
    "hidden": true
   },
   "outputs": [],
   "source": [
    "=IFERROR(expressão, valor_alternativo)"
   ]
  },
  {
   "cell_type": "markdown",
   "id": "47931e54",
   "metadata": {
    "hidden": true
   },
   "source": [
    "Por exemplo:"
   ]
  },
  {
   "cell_type": "code",
   "execution_count": null,
   "id": "dbe8f052",
   "metadata": {
    "hidden": true
   },
   "outputs": [],
   "source": [
    "=IFERROR(1/0, \"Erro: divisão por zero\")"
   ]
  },
  {
   "cell_type": "markdown",
   "id": "73e4de7a",
   "metadata": {
    "hidden": true
   },
   "source": [
    " "
   ]
  },
  {
   "cell_type": "markdown",
   "id": "1f71dfa9",
   "metadata": {
    "heading_collapsed": true
   },
   "source": [
    "# 💠 Funções de relacionamento"
   ]
  },
  {
   "cell_type": "markdown",
   "id": "9f7a3b5e",
   "metadata": {
    "heading_collapsed": true,
    "hidden": true
   },
   "source": [
    "## 🌾 Related"
   ]
  },
  {
   "cell_type": "markdown",
   "id": "5647faf8",
   "metadata": {
    "hidden": true
   },
   "source": [
    "Retorna uma coluna relacionada de outra tabela. Lembrando que as duas tabelas precisam estar relacionadas de forma direta. A sintaxe é:"
   ]
  },
  {
   "cell_type": "code",
   "execution_count": null,
   "id": "f3c1d276",
   "metadata": {
    "hidden": true
   },
   "outputs": [],
   "source": [
    "RELATED(<column>)"
   ]
  },
  {
   "cell_type": "markdown",
   "id": "991e2fdf",
   "metadata": {
    "hidden": true
   },
   "source": [
    " "
   ]
  },
  {
   "cell_type": "markdown",
   "id": "ab27b367",
   "metadata": {
    "heading_collapsed": true,
    "hidden": true
   },
   "source": [
    "## Relatedtable"
   ]
  },
  {
   "cell_type": "markdown",
   "id": "35b0952f",
   "metadata": {
    "hidden": true
   },
   "source": []
  },
  {
   "cell_type": "markdown",
   "id": "28285cab",
   "metadata": {
    "hidden": true
   },
   "source": []
  },
  {
   "cell_type": "markdown",
   "id": "241e4a39",
   "metadata": {
    "heading_collapsed": true
   },
   "source": [
    "# 💠 Funções de filtro"
   ]
  },
  {
   "cell_type": "markdown",
   "id": "6660982e",
   "metadata": {
    "heading_collapsed": true,
    "hidden": true
   },
   "source": [
    "## 🌾 Lookupvalue"
   ]
  },
  {
   "cell_type": "markdown",
   "id": "482873f9",
   "metadata": {
    "hidden": true
   },
   "source": [
    "A função `LOOKUPVALUE` é uma função do DAX (Data Analysis Expressions) utilizada para retornar o valor de uma coluna em uma tabela, com base em uma ou mais condições especificadas. Ela é comumente utilizada para recuperar valores de uma tabela relacionada em uma fórmula.\n",
    "\n",
    "A sua sintaxe é:"
   ]
  },
  {
   "cell_type": "code",
   "execution_count": null,
   "id": "1d7b978e",
   "metadata": {
    "hidden": true
   },
   "outputs": [],
   "source": [
    "LOOKUPVALUE(\n",
    "    <result_columnName>,\n",
    "    <search_columnName>,\n",
    "    <search_value>, \n",
    "    <search2_columnName>, \n",
    "    <search2_value>\n",
    "    …, \n",
    "    <alternateResult>\n",
    ")"
   ]
  },
  {
   "cell_type": "markdown",
   "id": "7e31b5c9",
   "metadata": {
    "hidden": true
   },
   "source": [
    "Onde:\n",
    "\n",
    "**result_columnName**: O nome de uma coluna existente que contém o valor que você deseja retornar. Não pode ser uma expressão.\n",
    "\n",
    "**search_columnName**: O nome de uma coluna existente. Ele pode estar na mesma tabela que result_columnName ou em uma tabela relacionada. Não pode ser uma expressão.\n",
    "\n",
    "**search_value**: O valor a ser pesquisado em search_columnName\n",
    "\n",
    "**alternateResult**: (Opcional) O valor retornado quando o contexto de result_columnName foi filtrado para zero ou mais de um valor distinto. Quando o valor não for fornecido, a função retornará BLANK quando result_columnName for filtrado para obter o valor zero ou retornará um erro quando houve mais de um valor distinto."
   ]
  },
  {
   "cell_type": "markdown",
   "id": "67d8a1a9",
   "metadata": {
    "hidden": true
   },
   "source": [
    " "
   ]
  },
  {
   "cell_type": "markdown",
   "id": "11e34d8e",
   "metadata": {
    "heading_collapsed": true,
    "hidden": true
   },
   "source": [
    "## 🌾 Calculate"
   ]
  },
  {
   "cell_type": "markdown",
   "id": "20900507",
   "metadata": {
    "hidden": true
   },
   "source": [
    "A função CALCULATE é uma das funções mais poderosas do DAX (Data Analysis Expressions) e serve para manipular os resultados de outras funções ou expressões no DAX. Ela permite modificar o contexto em que outras funções são avaliadas, alterando as interações entre as tabelas e colunas no modelo de dados.\n",
    "\n",
    "Em termos simples, a função CALCULATE permite filtrar, agregar, modificar ou substituir o contexto de avaliação de outras funções no DAX, permitindo que você crie cálculos dinâmicos e flexíveis que se ajustam às necessidades de análise específicas."
   ]
  },
  {
   "cell_type": "markdown",
   "id": "56e50687",
   "metadata": {
    "ExecuteTime": {
     "end_time": "2023-03-21T20:07:27.840962Z",
     "start_time": "2023-03-21T20:07:27.834771Z"
    },
    "hidden": true
   },
   "source": [
    "A sintaxe básica da função CALCULATE é a seguinte:    "
   ]
  },
  {
   "cell_type": "code",
   "execution_count": null,
   "id": "6f268a9d",
   "metadata": {
    "hidden": true
   },
   "outputs": [],
   "source": [
    "CALCULATE(<expression>, <filter1>, <filter2>,...)"
   ]
  },
  {
   "cell_type": "markdown",
   "id": "0668296b",
   "metadata": {
    "hidden": true
   },
   "source": [
    "Onde:\n",
    "\n",
    "**expression**: é a expressão ou função que você deseja calcular.\n",
    "\n",
    "**filter1, filter2, ...**: são as condições ou filtros que você deseja aplicar ao contexto de avaliação da expressão. Esses filtros podem ser baseados em colunas de tabelas diferentes, medidas, variáveis e outras expressões.\n",
    "Por exemplo, suponha que você tenha uma tabela de vendas com as colunas \"Data\", \"Produto\" e \"Valor\", e uma tabela de produtos com as colunas \"Produto\" e \"Categoria\". Para calcular o total de vendas de produtos de uma determinada categoria em um período de tempo específico, você pode usar a função CALCULATE da seguinte forma:"
   ]
  },
  {
   "cell_type": "code",
   "execution_count": null,
   "id": "7fb8c83a",
   "metadata": {
    "hidden": true
   },
   "outputs": [],
   "source": [
    "TotalVendasCategoria =\n",
    "CALCULATE(\n",
    "    SUM(Vendas[Valor]),\n",
    "    Produtos[Categoria] = \"Eletrônicos\",\n",
    "    Vendas[Data] >= DATE(2022,1,1),\n",
    "    Vendas[Data] <= DATE(2022,12,31)\n",
    ")"
   ]
  },
  {
   "cell_type": "markdown",
   "id": "0a52c1dc",
   "metadata": {
    "hidden": true
   },
   "source": [
    "Nesse exemplo, a função SUM é usada para somar os valores de vendas. A função CALCULATE é usada para filtrar as vendas de produtos eletrônicos em um determinado período de tempo, aplicando as condições especificadas nos filtros. O resultado será o total de vendas de produtos eletrônicos nesse período."
   ]
  },
  {
   "cell_type": "markdown",
   "id": "745cca36",
   "metadata": {
    "hidden": true
   },
   "source": [
    "Em resumo, a função CALCULATE é uma ferramenta poderosa para criar cálculos flexíveis e personalizados no DAX. Ela permite alterar o contexto de avaliação de outras funções, aplicar filtros dinâmicos e controlar as interações entre as tabelas e colunas no modelo de dados."
   ]
  },
  {
   "cell_type": "markdown",
   "id": "59156d70",
   "metadata": {
    "hidden": true
   },
   "source": [
    " "
   ]
  },
  {
   "cell_type": "markdown",
   "id": "8e6640cb",
   "metadata": {
    "heading_collapsed": true,
    "hidden": true
   },
   "source": [
    "## 🌾 Calculatetable"
   ]
  },
  {
   "cell_type": "markdown",
   "id": "6242238f",
   "metadata": {
    "hidden": true
   },
   "source": [
    "A função `CALCULATETABLE` é uma das funções mais poderosas da linguagem DAX e é usada para criar uma nova tabela de resultados com base em uma ou mais tabelas de origem e um conjunto de filtros ou expressões que são aplicados a essas tabelas.\n",
    "\n",
    "Em outras palavras, a função `CALCULATETABLE` é usada para filtrar dados e calcular resultados com base nesses filtros. Ela permite que você crie tabelas virtuais que incluam apenas os dados que atendem a determinados critérios e, em seguida, execute cálculos com base nesses dados filtrados."
   ]
  },
  {
   "cell_type": "markdown",
   "id": "db06dbb8",
   "metadata": {
    "hidden": true
   },
   "source": [
    "A função `CALCULATETABLE` pode ser usada em várias situações, incluindo:\n",
    "\n",
    "- Criar uma tabela virtual com apenas um subconjunto dos dados de uma ou mais tabelas de origem;\n",
    "- Aplicar filtros específicos a uma tabela para retornar resultados com base em condições definidas;\n",
    "- Realizar cálculos em uma tabela virtual que é baseada em uma tabela de origem, mas com linhas filtradas ou adicionadas."
   ]
  },
  {
   "cell_type": "markdown",
   "id": "08e29b68",
   "metadata": {
    "hidden": true
   },
   "source": [
    "A sintaxe básica da função `CALCULATETABLE` é a seguinte: "
   ]
  },
  {
   "cell_type": "code",
   "execution_count": null,
   "id": "13d3ca68",
   "metadata": {
    "ExecuteTime": {
     "end_time": "2023-03-21T23:37:04.716510Z",
     "start_time": "2023-03-21T23:37:04.337192Z"
    },
    "hidden": true
   },
   "outputs": [],
   "source": [
    "CALCULATETABLE(tabela, filtro1, filtro2, ...)"
   ]
  },
  {
   "cell_type": "markdown",
   "id": "9f779083",
   "metadata": {
    "hidden": true
   },
   "source": [
    "A função requer pelo menos um argumento, que é a tabela de origem que você deseja filtrar e/ou calcular. Além disso, você pode especificar filtros adicionais como argumentos adicionais para definir as condições que devem ser atendidas para que uma linha seja incluída na tabela resultante."
   ]
  },
  {
   "cell_type": "markdown",
   "id": "ed999f68",
   "metadata": {
    "hidden": true
   },
   "source": [
    " "
   ]
  },
  {
   "cell_type": "markdown",
   "id": "7888a842",
   "metadata": {
    "heading_collapsed": true,
    "hidden": true
   },
   "source": [
    "## 🌾 Filter"
   ]
  },
  {
   "cell_type": "markdown",
   "id": "b70a3fe4",
   "metadata": {
    "hidden": true
   },
   "source": [
    "A função `FILTER` da linguagem DAX é usada para filtrar uma tabela ou coluna, retornando apenas os valores que atendem a determinadas condições.\n",
    "\n",
    "Em outras palavras, `FILTER` permite que você selecione um subconjunto de dados de uma tabela, com base em critérios específicos. Por exemplo, você pode usar `FILTER` para retornar apenas as vendas de uma determinada região ou para retornar apenas os produtos que têm um preço superior a um determinado valor."
   ]
  },
  {
   "cell_type": "markdown",
   "id": "12f844d8",
   "metadata": {
    "hidden": true
   },
   "source": [
    "A sintaxe básica da função FILTER é a seguinte:"
   ]
  },
  {
   "cell_type": "code",
   "execution_count": null,
   "id": "93f57e99",
   "metadata": {
    "hidden": true
   },
   "outputs": [],
   "source": [
    "FILTER(Tabela, Condições)"
   ]
  },
  {
   "cell_type": "markdown",
   "id": "7a20d18b",
   "metadata": {
    "hidden": true
   },
   "source": [
    "Onde \"Tabela\" é a tabela que você deseja filtrar e \"Condições\" são as condições que os valores devem atender para serem incluídos no resultado.\n",
    "\n",
    "A função `FILTER` é uma das funções mais úteis e poderosas da linguagem DAX, pois permite que você faça análises mais avançadas e precisas dos seus dados. É importante lembrar que, para usar a função `FILTER` corretamente, você precisa entender bem os conceitos de tabelas e colunas na linguagem DAX."
   ]
  },
  {
   "cell_type": "markdown",
   "id": "0b24f747",
   "metadata": {
    "hidden": true
   },
   "source": [
    "**OBS**: É possivel usar mais de uma condição para usar como filtro apenas usando os operadores && e ||."
   ]
  },
  {
   "cell_type": "markdown",
   "id": "5aa4f0e5",
   "metadata": {
    "hidden": true
   },
   "source": [
    " "
   ]
  },
  {
   "cell_type": "markdown",
   "id": "87210855",
   "metadata": {
    "heading_collapsed": true,
    "hidden": true
   },
   "source": [
    "## 🌾 All"
   ]
  },
  {
   "cell_type": "markdown",
   "id": "f262565f",
   "metadata": {
    "hidden": true
   },
   "source": [
    "Retorna todas as linhas de uma tabela ou todos os valores de uma coluna, ignorando todos os filtros que estiverem aplicados. Essa função é útil para limpar filtros e criar cálculos em todas as linhas em uma tabela. A sua sintaxe é: "
   ]
  },
  {
   "cell_type": "code",
   "execution_count": null,
   "id": "6106b189",
   "metadata": {
    "hidden": true
   },
   "outputs": [],
   "source": [
    "ALL( table, column, ... )"
   ]
  },
  {
   "cell_type": "markdown",
   "id": "3c8ebd9c",
   "metadata": {
    "hidden": true
   },
   "source": [
    "## Allselected"
   ]
  },
  {
   "cell_type": "markdown",
   "id": "558e3951",
   "metadata": {
    "heading_collapsed": true,
    "hidden": true
   },
   "source": [
    "## Partitionby"
   ]
  },
  {
   "cell_type": "markdown",
   "id": "4698605b",
   "metadata": {
    "heading_collapsed": true,
    "hidden": true
   },
   "source": [
    "## Window"
   ]
  },
  {
   "cell_type": "markdown",
   "id": "47330779",
   "metadata": {
    "heading_collapsed": true,
    "hidden": true
   },
   "source": [
    "## Hasonefilter"
   ]
  },
  {
   "cell_type": "markdown",
   "id": "a0b202c9",
   "metadata": {
    "heading_collapsed": true,
    "hidden": true
   },
   "source": [
    "## Isfiltered"
   ]
  },
  {
   "cell_type": "markdown",
   "id": "16c20f76",
   "metadata": {
    "heading_collapsed": true
   },
   "source": [
    "# 💠 Funções de manipulação de tabelas"
   ]
  },
  {
   "cell_type": "markdown",
   "id": "fc366933",
   "metadata": {
    "heading_collapsed": true,
    "hidden": true
   },
   "source": [
    "## 🌾 Summarize"
   ]
  },
  {
   "cell_type": "markdown",
   "id": "16256fd5",
   "metadata": {
    "heading_collapsed": true,
    "hidden": true
   },
   "source": [
    "## 🌾 Summarizecolumns"
   ]
  },
  {
   "cell_type": "markdown",
   "id": "15291c7b",
   "metadata": {
    "heading_collapsed": true
   },
   "source": [
    "# 💠 Funções de rankeamento"
   ]
  },
  {
   "cell_type": "markdown",
   "id": "5f1e563c",
   "metadata": {
    "heading_collapsed": true,
    "hidden": true
   },
   "source": [
    "## 🌾 Rankx"
   ]
  },
  {
   "cell_type": "markdown",
   "id": "39432390",
   "metadata": {
    "heading_collapsed": true,
    "hidden": true
   },
   "source": [
    "## 🌾 Topn"
   ]
  }
 ],
 "metadata": {
  "kernelspec": {
   "display_name": "Python 3 (ipykernel)",
   "language": "python",
   "name": "python3"
  },
  "language_info": {
   "codemirror_mode": {
    "name": "ipython",
    "version": 3
   },
   "file_extension": ".py",
   "mimetype": "text/x-python",
   "name": "python",
   "nbconvert_exporter": "python",
   "pygments_lexer": "ipython3",
   "version": "3.11.2"
  }
 },
 "nbformat": 4,
 "nbformat_minor": 5
}
