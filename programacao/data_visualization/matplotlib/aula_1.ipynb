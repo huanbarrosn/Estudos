{
 "cells": [
  {
   "cell_type": "markdown",
   "id": "ad5f2b75",
   "metadata": {
    "heading_collapsed": true
   },
   "source": [
    "# Dicionário dos dados"
   ]
  },
  {
   "cell_type": "markdown",
   "id": "ff4426d0",
   "metadata": {
    "hidden": true
   },
   "source": [
    "Aqui estão as informações sobre cada coluna do dataset."
   ]
  },
  {
   "cell_type": "markdown",
   "id": "5275190e",
   "metadata": {
    "hidden": true
   },
   "source": [
    "**Invoice ID**: número de identificação da fatura do comprovante de venda gerado por computador.<br>\n",
    "**Branch**: Filial do supercentro (estão disponíveis 3 filiais identificadas por A, B e C).<br>\n",
    "**City**: Localização dos supercentros.<br>\n",
    "**Customer type**: Tipo de cliente, cadastrado por Associados para clientes com cartão de associado e Normal para sem cartão de associado.<br>\n",
    "**Gender**: Tipo de gênero do cliente.<br>\n",
    "**Product line**: Grupos de categorização geral de itens - Acessórios eletrônicos, Acessórios de moda, Alimentos e bebidas, Saúde e beleza, Casa e estilo de vida, Esportes e viagens.<br>\n",
    "**Unit price**: Preço de cada produto em $.<br>\n",
    "**Quantity**: Número de produtos comprados por cliente.<br>\n",
    "**Tax 5%**: Taxa de imposto de 5% para o cliente que compra.<br>\n",
    "**Total**: Preço total incluindo impostos.<br>\n",
    "**Date**: Data da compra (Registro disponível de janeiro de 2019 a março de 2019).<br>\n",
    "**Time**: Hora da compra (10h às 21h).<br>\n",
    "**Payment**: Pagamento utilizado pelo cliente na compra (3 métodos estão disponíveis – Dinheiro, Cartão de Crédito e Ewallet).<br>\n",
    "**COGS**: Custo das mercadorias vendido.<br>\n",
    "**Gross margin percentage**: Porcentagem de margem bruta.<br>\n",
    "**Gross income**: Receita bruta.<br>\n",
    "**Rating**: Classificação da estratificação do cliente em sua experiência geral de compra (em uma escala de 1 a 10)"
   ]
  },
  {
   "cell_type": "markdown",
   "id": "32c4f006",
   "metadata": {
    "heading_collapsed": true
   },
   "source": [
    "# Importando os dados"
   ]
  },
  {
   "cell_type": "markdown",
   "id": "e1b33178",
   "metadata": {
    "hidden": true
   },
   "source": [
    "Vamos importar os dados utilizando o pandas para comelar a visualização de dados."
   ]
  },
  {
   "cell_type": "code",
   "execution_count": 58,
   "id": "b309fdd3",
   "metadata": {
    "ExecuteTime": {
     "end_time": "2023-01-28T15:34:43.212168Z",
     "start_time": "2023-01-28T15:34:43.191788Z"
    },
    "hidden": true,
    "scrolled": true
   },
   "outputs": [
    {
     "data": {
      "text/html": [
       "<div>\n",
       "<style scoped>\n",
       "    .dataframe tbody tr th:only-of-type {\n",
       "        vertical-align: middle;\n",
       "    }\n",
       "\n",
       "    .dataframe tbody tr th {\n",
       "        vertical-align: top;\n",
       "    }\n",
       "\n",
       "    .dataframe thead th {\n",
       "        text-align: right;\n",
       "    }\n",
       "</style>\n",
       "<table border=\"1\" class=\"dataframe\">\n",
       "  <thead>\n",
       "    <tr style=\"text-align: right;\">\n",
       "      <th></th>\n",
       "      <th>invoice id</th>\n",
       "      <th>branch</th>\n",
       "      <th>city</th>\n",
       "      <th>customer type</th>\n",
       "      <th>gender</th>\n",
       "      <th>product line</th>\n",
       "      <th>unit price</th>\n",
       "      <th>quantity</th>\n",
       "      <th>tax 5%</th>\n",
       "      <th>total</th>\n",
       "      <th>date</th>\n",
       "      <th>time</th>\n",
       "      <th>payment</th>\n",
       "      <th>cogs</th>\n",
       "      <th>gross margin percentage</th>\n",
       "      <th>gross income</th>\n",
       "      <th>rating</th>\n",
       "    </tr>\n",
       "  </thead>\n",
       "  <tbody>\n",
       "    <tr>\n",
       "      <th>539</th>\n",
       "      <td>358-88-9262</td>\n",
       "      <td>C</td>\n",
       "      <td>Naypyitaw</td>\n",
       "      <td>Member</td>\n",
       "      <td>Female</td>\n",
       "      <td>Food and beverages</td>\n",
       "      <td>87.48</td>\n",
       "      <td>6</td>\n",
       "      <td>26.244</td>\n",
       "      <td>551.124</td>\n",
       "      <td>2/1/2019</td>\n",
       "      <td>18:43</td>\n",
       "      <td>Ewallet</td>\n",
       "      <td>524.88</td>\n",
       "      <td>4.761905</td>\n",
       "      <td>26.244</td>\n",
       "      <td>5.1</td>\n",
       "    </tr>\n",
       "    <tr>\n",
       "      <th>766</th>\n",
       "      <td>801-88-0346</td>\n",
       "      <td>C</td>\n",
       "      <td>Naypyitaw</td>\n",
       "      <td>Normal</td>\n",
       "      <td>Female</td>\n",
       "      <td>Fashion accessories</td>\n",
       "      <td>76.06</td>\n",
       "      <td>3</td>\n",
       "      <td>11.409</td>\n",
       "      <td>239.589</td>\n",
       "      <td>1/5/2019</td>\n",
       "      <td>20:30</td>\n",
       "      <td>Credit card</td>\n",
       "      <td>228.18</td>\n",
       "      <td>4.761905</td>\n",
       "      <td>11.409</td>\n",
       "      <td>9.8</td>\n",
       "    </tr>\n",
       "    <tr>\n",
       "      <th>760</th>\n",
       "      <td>842-40-8179</td>\n",
       "      <td>B</td>\n",
       "      <td>Mandalay</td>\n",
       "      <td>Member</td>\n",
       "      <td>Female</td>\n",
       "      <td>Food and beverages</td>\n",
       "      <td>77.20</td>\n",
       "      <td>10</td>\n",
       "      <td>38.600</td>\n",
       "      <td>810.600</td>\n",
       "      <td>2/11/2019</td>\n",
       "      <td>10:38</td>\n",
       "      <td>Credit card</td>\n",
       "      <td>772.00</td>\n",
       "      <td>4.761905</td>\n",
       "      <td>38.600</td>\n",
       "      <td>5.6</td>\n",
       "    </tr>\n",
       "  </tbody>\n",
       "</table>\n",
       "</div>"
      ],
      "text/plain": [
       "      invoice id branch       city customer type  gender         product line  \\\n",
       "539  358-88-9262      C  Naypyitaw        Member  Female   Food and beverages   \n",
       "766  801-88-0346      C  Naypyitaw        Normal  Female  Fashion accessories   \n",
       "760  842-40-8179      B   Mandalay        Member  Female   Food and beverages   \n",
       "\n",
       "     unit price  quantity  tax 5%    total       date   time      payment  \\\n",
       "539       87.48         6  26.244  551.124   2/1/2019  18:43      Ewallet   \n",
       "766       76.06         3  11.409  239.589   1/5/2019  20:30  Credit card   \n",
       "760       77.20        10  38.600  810.600  2/11/2019  10:38  Credit card   \n",
       "\n",
       "       cogs  gross margin percentage  gross income  rating  \n",
       "539  524.88                 4.761905        26.244     5.1  \n",
       "766  228.18                 4.761905        11.409     9.8  \n",
       "760  772.00                 4.761905        38.600     5.6  "
      ]
     },
     "execution_count": 58,
     "metadata": {},
     "output_type": "execute_result"
    }
   ],
   "source": [
    "import pandas as pd\n",
    "\n",
    "data = pd.read_csv('base-de-dados/supermarket_sales - Sheet1.csv')\n",
    "data.rename(columns=lambda x : x.casefold(), inplace=True)\n",
    "data.sample(3)"
   ]
  },
  {
   "cell_type": "markdown",
   "id": "67001ca4",
   "metadata": {
    "hidden": true
   },
   "source": [
    " "
   ]
  },
  {
   "cell_type": "markdown",
   "id": "b749247d",
   "metadata": {
    "hidden": true
   },
   "source": [
    "Visualisando os tipos de dados e corrigindo-os para que não tenhamos problemas na visualização."
   ]
  },
  {
   "cell_type": "code",
   "execution_count": 2,
   "id": "4724ad44",
   "metadata": {
    "ExecuteTime": {
     "end_time": "2023-01-19T01:28:42.589841Z",
     "start_time": "2023-01-19T01:28:42.582139Z"
    },
    "hidden": true
   },
   "outputs": [
    {
     "name": "stdout",
     "output_type": "stream",
     "text": [
      "<class 'pandas.core.frame.DataFrame'>\n",
      "RangeIndex: 1000 entries, 0 to 999\n",
      "Data columns (total 17 columns):\n",
      " #   Column                   Non-Null Count  Dtype  \n",
      "---  ------                   --------------  -----  \n",
      " 0   invoice id               1000 non-null   object \n",
      " 1   branch                   1000 non-null   object \n",
      " 2   city                     1000 non-null   object \n",
      " 3   customer type            1000 non-null   object \n",
      " 4   gender                   1000 non-null   object \n",
      " 5   product line             1000 non-null   object \n",
      " 6   unit price               1000 non-null   float64\n",
      " 7   quantity                 1000 non-null   int64  \n",
      " 8   tax 5%                   1000 non-null   float64\n",
      " 9   total                    1000 non-null   float64\n",
      " 10  date                     1000 non-null   object \n",
      " 11  time                     1000 non-null   object \n",
      " 12  payment                  1000 non-null   object \n",
      " 13  cogs                     1000 non-null   float64\n",
      " 14  gross margin percentage  1000 non-null   float64\n",
      " 15  gross income             1000 non-null   float64\n",
      " 16  rating                   1000 non-null   float64\n",
      "dtypes: float64(7), int64(1), object(9)\n",
      "memory usage: 132.9+ KB\n"
     ]
    }
   ],
   "source": [
    "data.info()"
   ]
  },
  {
   "cell_type": "markdown",
   "id": "68336231",
   "metadata": {
    "hidden": true
   },
   "source": [
    " "
   ]
  },
  {
   "cell_type": "markdown",
   "id": "659c2598",
   "metadata": {
    "hidden": true
   },
   "source": [
    "Trocando o tipo de dado da coluna date e da coluna time, de object para datetime. Isso é feito para podermos plotar gráficos que envolva a coluna date sem dar problemas."
   ]
  },
  {
   "cell_type": "code",
   "execution_count": 59,
   "id": "346ff65c",
   "metadata": {
    "ExecuteTime": {
     "end_time": "2023-01-28T15:35:05.601808Z",
     "start_time": "2023-01-28T15:35:05.586373Z"
    },
    "hidden": true
   },
   "outputs": [],
   "source": [
    "data['date'] = pd.to_datetime(data['date'], format='%m/%d/%Y').dt.date\n",
    "data['time'] = pd.to_datetime(data['time'], format='%H:%M', errors='ignore').dt.time"
   ]
  },
  {
   "cell_type": "markdown",
   "id": "a6b8c520",
   "metadata": {
    "hidden": true
   },
   "source": [
    " "
   ]
  },
  {
   "cell_type": "markdown",
   "id": "9d36b55b",
   "metadata": {
    "heading_collapsed": true
   },
   "source": [
    "# Visualizando os dados"
   ]
  },
  {
   "cell_type": "markdown",
   "id": "8596fdff",
   "metadata": {
    "hidden": true
   },
   "source": [
    "Antes de tudo, devemos importar a lib **matplotlib**, claro. E dessa lib devemos importar o modulo **pyplot**. O apelido para esse modulo é **plt**."
   ]
  },
  {
   "cell_type": "code",
   "execution_count": 20,
   "id": "ccff1838",
   "metadata": {
    "ExecuteTime": {
     "end_time": "2023-01-19T16:40:13.521173Z",
     "start_time": "2023-01-19T16:40:13.518245Z"
    },
    "hidden": true
   },
   "outputs": [],
   "source": [
    "import matplotlib.pyplot as plt"
   ]
  },
  {
   "cell_type": "code",
   "execution_count": 23,
   "id": "b1b46c08",
   "metadata": {
    "ExecuteTime": {
     "end_time": "2023-01-19T16:40:58.223409Z",
     "start_time": "2023-01-19T16:40:58.185044Z"
    },
    "hidden": true
   },
   "outputs": [
    {
     "data": {
      "text/html": [
       "<div>\n",
       "<style scoped>\n",
       "    .dataframe tbody tr th:only-of-type {\n",
       "        vertical-align: middle;\n",
       "    }\n",
       "\n",
       "    .dataframe tbody tr th {\n",
       "        vertical-align: top;\n",
       "    }\n",
       "\n",
       "    .dataframe thead th {\n",
       "        text-align: right;\n",
       "    }\n",
       "</style>\n",
       "<table border=\"1\" class=\"dataframe\">\n",
       "  <thead>\n",
       "    <tr style=\"text-align: right;\">\n",
       "      <th></th>\n",
       "      <th>invoice id</th>\n",
       "      <th>branch</th>\n",
       "      <th>city</th>\n",
       "      <th>customer type</th>\n",
       "      <th>gender</th>\n",
       "      <th>product line</th>\n",
       "      <th>unit price</th>\n",
       "      <th>quantity</th>\n",
       "      <th>tax 5%</th>\n",
       "      <th>total</th>\n",
       "      <th>date</th>\n",
       "      <th>time</th>\n",
       "      <th>payment</th>\n",
       "      <th>cogs</th>\n",
       "      <th>gross margin percentage</th>\n",
       "      <th>gross income</th>\n",
       "      <th>rating</th>\n",
       "    </tr>\n",
       "  </thead>\n",
       "  <tbody>\n",
       "    <tr>\n",
       "      <th>0</th>\n",
       "      <td>750-67-8428</td>\n",
       "      <td>A</td>\n",
       "      <td>Yangon</td>\n",
       "      <td>Member</td>\n",
       "      <td>Female</td>\n",
       "      <td>Health and beauty</td>\n",
       "      <td>74.69</td>\n",
       "      <td>7</td>\n",
       "      <td>26.1415</td>\n",
       "      <td>548.9715</td>\n",
       "      <td>2019-01-05</td>\n",
       "      <td>13:08:00</td>\n",
       "      <td>Ewallet</td>\n",
       "      <td>522.83</td>\n",
       "      <td>4.761905</td>\n",
       "      <td>26.1415</td>\n",
       "      <td>9.1</td>\n",
       "    </tr>\n",
       "    <tr>\n",
       "      <th>1</th>\n",
       "      <td>226-31-3081</td>\n",
       "      <td>C</td>\n",
       "      <td>Naypyitaw</td>\n",
       "      <td>Normal</td>\n",
       "      <td>Female</td>\n",
       "      <td>Electronic accessories</td>\n",
       "      <td>15.28</td>\n",
       "      <td>5</td>\n",
       "      <td>3.8200</td>\n",
       "      <td>80.2200</td>\n",
       "      <td>2019-03-08</td>\n",
       "      <td>10:29:00</td>\n",
       "      <td>Cash</td>\n",
       "      <td>76.40</td>\n",
       "      <td>4.761905</td>\n",
       "      <td>3.8200</td>\n",
       "      <td>9.6</td>\n",
       "    </tr>\n",
       "    <tr>\n",
       "      <th>2</th>\n",
       "      <td>631-41-3108</td>\n",
       "      <td>A</td>\n",
       "      <td>Yangon</td>\n",
       "      <td>Normal</td>\n",
       "      <td>Male</td>\n",
       "      <td>Home and lifestyle</td>\n",
       "      <td>46.33</td>\n",
       "      <td>7</td>\n",
       "      <td>16.2155</td>\n",
       "      <td>340.5255</td>\n",
       "      <td>2019-03-03</td>\n",
       "      <td>13:23:00</td>\n",
       "      <td>Credit card</td>\n",
       "      <td>324.31</td>\n",
       "      <td>4.761905</td>\n",
       "      <td>16.2155</td>\n",
       "      <td>7.4</td>\n",
       "    </tr>\n",
       "    <tr>\n",
       "      <th>3</th>\n",
       "      <td>123-19-1176</td>\n",
       "      <td>A</td>\n",
       "      <td>Yangon</td>\n",
       "      <td>Member</td>\n",
       "      <td>Male</td>\n",
       "      <td>Health and beauty</td>\n",
       "      <td>58.22</td>\n",
       "      <td>8</td>\n",
       "      <td>23.2880</td>\n",
       "      <td>489.0480</td>\n",
       "      <td>2019-01-27</td>\n",
       "      <td>20:33:00</td>\n",
       "      <td>Ewallet</td>\n",
       "      <td>465.76</td>\n",
       "      <td>4.761905</td>\n",
       "      <td>23.2880</td>\n",
       "      <td>8.4</td>\n",
       "    </tr>\n",
       "    <tr>\n",
       "      <th>4</th>\n",
       "      <td>373-73-7910</td>\n",
       "      <td>A</td>\n",
       "      <td>Yangon</td>\n",
       "      <td>Normal</td>\n",
       "      <td>Male</td>\n",
       "      <td>Sports and travel</td>\n",
       "      <td>86.31</td>\n",
       "      <td>7</td>\n",
       "      <td>30.2085</td>\n",
       "      <td>634.3785</td>\n",
       "      <td>2019-02-08</td>\n",
       "      <td>10:37:00</td>\n",
       "      <td>Ewallet</td>\n",
       "      <td>604.17</td>\n",
       "      <td>4.761905</td>\n",
       "      <td>30.2085</td>\n",
       "      <td>5.3</td>\n",
       "    </tr>\n",
       "    <tr>\n",
       "      <th>...</th>\n",
       "      <td>...</td>\n",
       "      <td>...</td>\n",
       "      <td>...</td>\n",
       "      <td>...</td>\n",
       "      <td>...</td>\n",
       "      <td>...</td>\n",
       "      <td>...</td>\n",
       "      <td>...</td>\n",
       "      <td>...</td>\n",
       "      <td>...</td>\n",
       "      <td>...</td>\n",
       "      <td>...</td>\n",
       "      <td>...</td>\n",
       "      <td>...</td>\n",
       "      <td>...</td>\n",
       "      <td>...</td>\n",
       "      <td>...</td>\n",
       "    </tr>\n",
       "    <tr>\n",
       "      <th>995</th>\n",
       "      <td>233-67-5758</td>\n",
       "      <td>C</td>\n",
       "      <td>Naypyitaw</td>\n",
       "      <td>Normal</td>\n",
       "      <td>Male</td>\n",
       "      <td>Health and beauty</td>\n",
       "      <td>40.35</td>\n",
       "      <td>1</td>\n",
       "      <td>2.0175</td>\n",
       "      <td>42.3675</td>\n",
       "      <td>2019-01-29</td>\n",
       "      <td>13:46:00</td>\n",
       "      <td>Ewallet</td>\n",
       "      <td>40.35</td>\n",
       "      <td>4.761905</td>\n",
       "      <td>2.0175</td>\n",
       "      <td>6.2</td>\n",
       "    </tr>\n",
       "    <tr>\n",
       "      <th>996</th>\n",
       "      <td>303-96-2227</td>\n",
       "      <td>B</td>\n",
       "      <td>Mandalay</td>\n",
       "      <td>Normal</td>\n",
       "      <td>Female</td>\n",
       "      <td>Home and lifestyle</td>\n",
       "      <td>97.38</td>\n",
       "      <td>10</td>\n",
       "      <td>48.6900</td>\n",
       "      <td>1022.4900</td>\n",
       "      <td>2019-03-02</td>\n",
       "      <td>17:16:00</td>\n",
       "      <td>Ewallet</td>\n",
       "      <td>973.80</td>\n",
       "      <td>4.761905</td>\n",
       "      <td>48.6900</td>\n",
       "      <td>4.4</td>\n",
       "    </tr>\n",
       "    <tr>\n",
       "      <th>997</th>\n",
       "      <td>727-02-1313</td>\n",
       "      <td>A</td>\n",
       "      <td>Yangon</td>\n",
       "      <td>Member</td>\n",
       "      <td>Male</td>\n",
       "      <td>Food and beverages</td>\n",
       "      <td>31.84</td>\n",
       "      <td>1</td>\n",
       "      <td>1.5920</td>\n",
       "      <td>33.4320</td>\n",
       "      <td>2019-02-09</td>\n",
       "      <td>13:22:00</td>\n",
       "      <td>Cash</td>\n",
       "      <td>31.84</td>\n",
       "      <td>4.761905</td>\n",
       "      <td>1.5920</td>\n",
       "      <td>7.7</td>\n",
       "    </tr>\n",
       "    <tr>\n",
       "      <th>998</th>\n",
       "      <td>347-56-2442</td>\n",
       "      <td>A</td>\n",
       "      <td>Yangon</td>\n",
       "      <td>Normal</td>\n",
       "      <td>Male</td>\n",
       "      <td>Home and lifestyle</td>\n",
       "      <td>65.82</td>\n",
       "      <td>1</td>\n",
       "      <td>3.2910</td>\n",
       "      <td>69.1110</td>\n",
       "      <td>2019-02-22</td>\n",
       "      <td>15:33:00</td>\n",
       "      <td>Cash</td>\n",
       "      <td>65.82</td>\n",
       "      <td>4.761905</td>\n",
       "      <td>3.2910</td>\n",
       "      <td>4.1</td>\n",
       "    </tr>\n",
       "    <tr>\n",
       "      <th>999</th>\n",
       "      <td>849-09-3807</td>\n",
       "      <td>A</td>\n",
       "      <td>Yangon</td>\n",
       "      <td>Member</td>\n",
       "      <td>Female</td>\n",
       "      <td>Fashion accessories</td>\n",
       "      <td>88.34</td>\n",
       "      <td>7</td>\n",
       "      <td>30.9190</td>\n",
       "      <td>649.2990</td>\n",
       "      <td>2019-02-18</td>\n",
       "      <td>13:28:00</td>\n",
       "      <td>Cash</td>\n",
       "      <td>618.38</td>\n",
       "      <td>4.761905</td>\n",
       "      <td>30.9190</td>\n",
       "      <td>6.6</td>\n",
       "    </tr>\n",
       "  </tbody>\n",
       "</table>\n",
       "<p>1000 rows × 17 columns</p>\n",
       "</div>"
      ],
      "text/plain": [
       "      invoice id branch       city customer type  gender  \\\n",
       "0    750-67-8428      A     Yangon        Member  Female   \n",
       "1    226-31-3081      C  Naypyitaw        Normal  Female   \n",
       "2    631-41-3108      A     Yangon        Normal    Male   \n",
       "3    123-19-1176      A     Yangon        Member    Male   \n",
       "4    373-73-7910      A     Yangon        Normal    Male   \n",
       "..           ...    ...        ...           ...     ...   \n",
       "995  233-67-5758      C  Naypyitaw        Normal    Male   \n",
       "996  303-96-2227      B   Mandalay        Normal  Female   \n",
       "997  727-02-1313      A     Yangon        Member    Male   \n",
       "998  347-56-2442      A     Yangon        Normal    Male   \n",
       "999  849-09-3807      A     Yangon        Member  Female   \n",
       "\n",
       "               product line  unit price  quantity   tax 5%      total  \\\n",
       "0         Health and beauty       74.69         7  26.1415   548.9715   \n",
       "1    Electronic accessories       15.28         5   3.8200    80.2200   \n",
       "2        Home and lifestyle       46.33         7  16.2155   340.5255   \n",
       "3         Health and beauty       58.22         8  23.2880   489.0480   \n",
       "4         Sports and travel       86.31         7  30.2085   634.3785   \n",
       "..                      ...         ...       ...      ...        ...   \n",
       "995       Health and beauty       40.35         1   2.0175    42.3675   \n",
       "996      Home and lifestyle       97.38        10  48.6900  1022.4900   \n",
       "997      Food and beverages       31.84         1   1.5920    33.4320   \n",
       "998      Home and lifestyle       65.82         1   3.2910    69.1110   \n",
       "999     Fashion accessories       88.34         7  30.9190   649.2990   \n",
       "\n",
       "          date      time      payment    cogs  gross margin percentage  \\\n",
       "0   2019-01-05  13:08:00      Ewallet  522.83                 4.761905   \n",
       "1   2019-03-08  10:29:00         Cash   76.40                 4.761905   \n",
       "2   2019-03-03  13:23:00  Credit card  324.31                 4.761905   \n",
       "3   2019-01-27  20:33:00      Ewallet  465.76                 4.761905   \n",
       "4   2019-02-08  10:37:00      Ewallet  604.17                 4.761905   \n",
       "..         ...       ...          ...     ...                      ...   \n",
       "995 2019-01-29  13:46:00      Ewallet   40.35                 4.761905   \n",
       "996 2019-03-02  17:16:00      Ewallet  973.80                 4.761905   \n",
       "997 2019-02-09  13:22:00         Cash   31.84                 4.761905   \n",
       "998 2019-02-22  15:33:00         Cash   65.82                 4.761905   \n",
       "999 2019-02-18  13:28:00         Cash  618.38                 4.761905   \n",
       "\n",
       "     gross income  rating  \n",
       "0         26.1415     9.1  \n",
       "1          3.8200     9.6  \n",
       "2         16.2155     7.4  \n",
       "3         23.2880     8.4  \n",
       "4         30.2085     5.3  \n",
       "..            ...     ...  \n",
       "995        2.0175     6.2  \n",
       "996       48.6900     4.4  \n",
       "997        1.5920     7.7  \n",
       "998        3.2910     4.1  \n",
       "999       30.9190     6.6  \n",
       "\n",
       "[1000 rows x 17 columns]"
      ]
     },
     "execution_count": 23,
     "metadata": {},
     "output_type": "execute_result"
    }
   ],
   "source": [
    "data"
   ]
  },
  {
   "cell_type": "code",
   "execution_count": null,
   "id": "a53a2b7a",
   "metadata": {
    "hidden": true
   },
   "outputs": [],
   "source": []
  },
  {
   "cell_type": "code",
   "execution_count": null,
   "id": "a4c0280a",
   "metadata": {
    "hidden": true
   },
   "outputs": [],
   "source": []
  },
  {
   "cell_type": "code",
   "execution_count": null,
   "id": "feac3584",
   "metadata": {
    "hidden": true
   },
   "outputs": [],
   "source": []
  }
 ],
 "metadata": {
  "kernelspec": {
   "display_name": "Python 3 (ipykernel)",
   "language": "python",
   "name": "python3"
  },
  "language_info": {
   "codemirror_mode": {
    "name": "ipython",
    "version": 3
   },
   "file_extension": ".py",
   "mimetype": "text/x-python",
   "name": "python",
   "nbconvert_exporter": "python",
   "pygments_lexer": "ipython3",
   "version": "3.11.1"
  },
  "varInspector": {
   "cols": {
    "lenName": 16,
    "lenType": 16,
    "lenVar": 40
   },
   "kernels_config": {
    "python": {
     "delete_cmd_postfix": "",
     "delete_cmd_prefix": "del ",
     "library": "var_list.py",
     "varRefreshCmd": "print(var_dic_list())"
    },
    "r": {
     "delete_cmd_postfix": ") ",
     "delete_cmd_prefix": "rm(",
     "library": "var_list.r",
     "varRefreshCmd": "cat(var_dic_list()) "
    }
   },
   "types_to_exclude": [
    "module",
    "function",
    "builtin_function_or_method",
    "instance",
    "_Feature"
   ],
   "window_display": false
  }
 },
 "nbformat": 4,
 "nbformat_minor": 5
}
